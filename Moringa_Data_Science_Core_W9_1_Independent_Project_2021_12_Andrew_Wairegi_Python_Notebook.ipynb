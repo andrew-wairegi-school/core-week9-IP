{
  "nbformat": 4,
  "nbformat_minor": 0,
  "metadata": {
    "colab": {
      "name": "Moringa_Data_Science_Core_W9_1_Independent_Project_2021_12_Andrew_Wairegi_Python_Notebook.ipynb",
      "provenance": [],
      "collapsed_sections": [],
      "authorship_tag": "ABX9TyNf5KmtrvWdmpdxayAd4U7o",
      "include_colab_link": true
    },
    "kernelspec": {
      "name": "python3",
      "display_name": "Python 3"
    },
    "language_info": {
      "name": "python"
    }
  },
  "cells": [
    {
      "cell_type": "markdown",
      "metadata": {
        "id": "view-in-github",
        "colab_type": "text"
      },
      "source": [
        "<a href=\"https://colab.research.google.com/github/andrew-wairegi-school/core-week9-IP/blob/main/Moringa_Data_Science_Core_W9_1_Independent_Project_2021_12_Andrew_Wairegi_Python_Notebook.ipynb\" target=\"_parent\"><img src=\"https://colab.research.google.com/assets/colab-badge.svg\" alt=\"Open In Colab\"/></a>"
      ]
    },
    {
      "cell_type": "markdown",
      "source": [
        "# Titanic - Survived / Not Survived"
      ],
      "metadata": {
        "id": "wXeKoLaG_5F9"
      }
    },
    {
      "cell_type": "code",
      "source": [
        "Github: https://github.com/andrew-wairegi-school/core-week9-IP"
      ],
      "metadata": {
        "id": "pvZCoQxqI7pI"
      },
      "execution_count": null,
      "outputs": []
    },
    {
      "cell_type": "markdown",
      "source": [
        "By: Andrew Wairegi"
      ],
      "metadata": {
        "id": "Xa8ePaPlVcAa"
      }
    },
    {
      "cell_type": "markdown",
      "source": [
        "**Definitions:**\n",
        "\n",
        "*   PassengerId - Id of passenger\n",
        "*   Survived - Survived or not\n",
        "*   Pclass - Passenger class\n",
        "*   Name - Name of passenger\n",
        "*   Sex - Gender of passenger\n",
        "*   Age - Age of passenger\n",
        "*   SibSp - Number of spouses and siblings aboard\n",
        "*   Parch - Number of Parents and Children aboard\n",
        "*   Ticket - Ticket number\n",
        "*   Fare - Cost of the ticket\n",
        "*   Cabin - Cabin number on the ship\n",
        "*   Embarked - Where they boarded from (S - Southampton, C - Cherbourg, Q - Queenstown)"
      ],
      "metadata": {
        "id": "GjX3SRMcT_Ij"
      }
    },
    {
      "cell_type": "markdown",
      "source": [
        "## 1. Defining the Question"
      ],
      "metadata": {
        "id": "h8wYKRQHH3Cn"
      }
    },
    {
      "cell_type": "markdown",
      "source": [
        "### a) Specifying the question"
      ],
      "metadata": {
        "id": "jtA2NQf0H9Zp"
      }
    },
    {
      "cell_type": "markdown",
      "source": [
        "To predict whether a passenger on the titanic would survive the crash or not. Given the variables that are available"
      ],
      "metadata": {
        "id": "uTcX1VsqIA3K"
      }
    },
    {
      "cell_type": "markdown",
      "source": [
        "### b) Defining the metric for success"
      ],
      "metadata": {
        "id": "a1wHGhx4IBij"
      }
    },
    {
      "cell_type": "markdown",
      "source": [
        "The model can predict the survival rate of the passengers with 80%. If it can predict that a passenger will survive, with an accuracy of 80%. Then it is a successful model. "
      ],
      "metadata": {
        "id": "TLQvnfOHIGuH"
      }
    },
    {
      "cell_type": "markdown",
      "source": [
        "### c) Understanding the context"
      ],
      "metadata": {
        "id": "8t347cD7IHOF"
      }
    },
    {
      "cell_type": "markdown",
      "source": [
        "The titanic crash took place in the 20th century. It was the biggest boat crash of that time. With the data that we have available of the passengers. We should be able to predict whether a titanic passenger will survive or not. When it meets a iceberg."
      ],
      "metadata": {
        "id": "cTSlSke0IK1v"
      }
    },
    {
      "cell_type": "markdown",
      "source": [
        "### d) Experimental design"
      ],
      "metadata": {
        "id": "FkcIdWJ-ILo6"
      }
    },
    {
      "cell_type": "markdown",
      "source": [
        "Process:\n",
        "1. Defining the question\n",
        "2. Reading the data\n",
        "3. Previewing the data\n",
        "4. Data cleaning\n",
        "5. Data preparation\n",
        "6. Exploratory data analysis\n",
        "7. Implementing the solution\n",
        "8. Challenging the solution\n",
        "9. Conclusion\n",
        "10. Recommendation\n",
        "11. Follow up questions"
      ],
      "metadata": {
        "id": "f52k2fi7ILwV"
      }
    },
    {
      "cell_type": "markdown",
      "source": [
        "### e) Data relevance"
      ],
      "metadata": {
        "id": "-vp5Vx1gIPeU"
      }
    },
    {
      "cell_type": "markdown",
      "source": [
        "The data is relevant because it was sourced from the original titanic ship. It was sourced from the researchers that lived at that time. They sourced it from what they could find about the passengers onboard the ship. This was then used in later machine learning models to predict whether a passenger would survive or not. It is the same dataset that we are using today."
      ],
      "metadata": {
        "id": "9eRv0-_wISEn"
      }
    },
    {
      "cell_type": "markdown",
      "source": [
        "## 2. Reading the Data"
      ],
      "metadata": {
        "id": "PgJ6LGKoALAP"
      }
    },
    {
      "cell_type": "code",
      "execution_count": null,
      "metadata": {
        "id": "CNK869S1_IBz"
      },
      "outputs": [],
      "source": [
        "# Importing the libraries\n",
        "import numpy as np\n",
        "import pandas as pd\n",
        "import matplotlib.pyplot as plt\n",
        "import seaborn as sns"
      ]
    },
    {
      "cell_type": "code",
      "source": [
        "# Reading the data\n",
        "df = pd.read_csv(\"train.csv\")\n",
        "df.head() "
      ],
      "metadata": {
        "colab": {
          "base_uri": "https://localhost:8080/",
          "height": 206
        },
        "id": "gUcTHywUAOTg",
        "outputId": "49f34254-2575-4616-9fba-93097e4622da"
      },
      "execution_count": null,
      "outputs": [
        {
          "output_type": "execute_result",
          "data": {
            "text/html": [
              "<div>\n",
              "<style scoped>\n",
              "    .dataframe tbody tr th:only-of-type {\n",
              "        vertical-align: middle;\n",
              "    }\n",
              "\n",
              "    .dataframe tbody tr th {\n",
              "        vertical-align: top;\n",
              "    }\n",
              "\n",
              "    .dataframe thead th {\n",
              "        text-align: right;\n",
              "    }\n",
              "</style>\n",
              "<table border=\"1\" class=\"dataframe\">\n",
              "  <thead>\n",
              "    <tr style=\"text-align: right;\">\n",
              "      <th></th>\n",
              "      <th>PassengerId</th>\n",
              "      <th>Survived</th>\n",
              "      <th>Pclass</th>\n",
              "      <th>Name</th>\n",
              "      <th>Sex</th>\n",
              "      <th>Age</th>\n",
              "      <th>SibSp</th>\n",
              "      <th>Parch</th>\n",
              "      <th>Ticket</th>\n",
              "      <th>Fare</th>\n",
              "      <th>Cabin</th>\n",
              "      <th>Embarked</th>\n",
              "    </tr>\n",
              "  </thead>\n",
              "  <tbody>\n",
              "    <tr>\n",
              "      <th>0</th>\n",
              "      <td>1</td>\n",
              "      <td>0</td>\n",
              "      <td>3</td>\n",
              "      <td>Braund, Mr. Owen Harris</td>\n",
              "      <td>male</td>\n",
              "      <td>22.0</td>\n",
              "      <td>1</td>\n",
              "      <td>0</td>\n",
              "      <td>A/5 21171</td>\n",
              "      <td>7.2500</td>\n",
              "      <td>NaN</td>\n",
              "      <td>S</td>\n",
              "    </tr>\n",
              "    <tr>\n",
              "      <th>1</th>\n",
              "      <td>2</td>\n",
              "      <td>1</td>\n",
              "      <td>1</td>\n",
              "      <td>Cumings, Mrs. John Bradley (Florence Briggs Th...</td>\n",
              "      <td>female</td>\n",
              "      <td>38.0</td>\n",
              "      <td>1</td>\n",
              "      <td>0</td>\n",
              "      <td>PC 17599</td>\n",
              "      <td>71.2833</td>\n",
              "      <td>C85</td>\n",
              "      <td>C</td>\n",
              "    </tr>\n",
              "    <tr>\n",
              "      <th>2</th>\n",
              "      <td>3</td>\n",
              "      <td>1</td>\n",
              "      <td>3</td>\n",
              "      <td>Heikkinen, Miss. Laina</td>\n",
              "      <td>female</td>\n",
              "      <td>26.0</td>\n",
              "      <td>0</td>\n",
              "      <td>0</td>\n",
              "      <td>STON/O2. 3101282</td>\n",
              "      <td>7.9250</td>\n",
              "      <td>NaN</td>\n",
              "      <td>S</td>\n",
              "    </tr>\n",
              "    <tr>\n",
              "      <th>3</th>\n",
              "      <td>4</td>\n",
              "      <td>1</td>\n",
              "      <td>1</td>\n",
              "      <td>Futrelle, Mrs. Jacques Heath (Lily May Peel)</td>\n",
              "      <td>female</td>\n",
              "      <td>35.0</td>\n",
              "      <td>1</td>\n",
              "      <td>0</td>\n",
              "      <td>113803</td>\n",
              "      <td>53.1000</td>\n",
              "      <td>C123</td>\n",
              "      <td>S</td>\n",
              "    </tr>\n",
              "    <tr>\n",
              "      <th>4</th>\n",
              "      <td>5</td>\n",
              "      <td>0</td>\n",
              "      <td>3</td>\n",
              "      <td>Allen, Mr. William Henry</td>\n",
              "      <td>male</td>\n",
              "      <td>35.0</td>\n",
              "      <td>0</td>\n",
              "      <td>0</td>\n",
              "      <td>373450</td>\n",
              "      <td>8.0500</td>\n",
              "      <td>NaN</td>\n",
              "      <td>S</td>\n",
              "    </tr>\n",
              "  </tbody>\n",
              "</table>\n",
              "</div>"
            ],
            "text/plain": [
              "   PassengerId  Survived  Pclass  ...     Fare Cabin  Embarked\n",
              "0            1         0       3  ...   7.2500   NaN         S\n",
              "1            2         1       1  ...  71.2833   C85         C\n",
              "2            3         1       3  ...   7.9250   NaN         S\n",
              "3            4         1       1  ...  53.1000  C123         S\n",
              "4            5         0       3  ...   8.0500   NaN         S\n",
              "\n",
              "[5 rows x 12 columns]"
            ]
          },
          "metadata": {},
          "execution_count": 2
        }
      ]
    },
    {
      "cell_type": "markdown",
      "source": [
        "## 3. Previewing the Data"
      ],
      "metadata": {
        "id": "FI6sGoQyA2y8"
      }
    },
    {
      "cell_type": "code",
      "source": [
        "# Number of records\n",
        "df.shape"
      ],
      "metadata": {
        "colab": {
          "base_uri": "https://localhost:8080/"
        },
        "id": "cCl5S9-gA0O0",
        "outputId": "60348851-ef1c-4790-8deb-a60495db9e6a"
      },
      "execution_count": null,
      "outputs": [
        {
          "output_type": "execute_result",
          "data": {
            "text/plain": [
              "(891, 12)"
            ]
          },
          "metadata": {},
          "execution_count": 3
        }
      ]
    },
    {
      "cell_type": "code",
      "source": [
        "# Top of dataset\n",
        "df.head()"
      ],
      "metadata": {
        "colab": {
          "base_uri": "https://localhost:8080/",
          "height": 206
        },
        "id": "2tBcM7LKA8Of",
        "outputId": "5d1c5a9e-3e1f-44cd-d506-3a0ee4a38ab9"
      },
      "execution_count": null,
      "outputs": [
        {
          "output_type": "execute_result",
          "data": {
            "text/html": [
              "<div>\n",
              "<style scoped>\n",
              "    .dataframe tbody tr th:only-of-type {\n",
              "        vertical-align: middle;\n",
              "    }\n",
              "\n",
              "    .dataframe tbody tr th {\n",
              "        vertical-align: top;\n",
              "    }\n",
              "\n",
              "    .dataframe thead th {\n",
              "        text-align: right;\n",
              "    }\n",
              "</style>\n",
              "<table border=\"1\" class=\"dataframe\">\n",
              "  <thead>\n",
              "    <tr style=\"text-align: right;\">\n",
              "      <th></th>\n",
              "      <th>PassengerId</th>\n",
              "      <th>Survived</th>\n",
              "      <th>Pclass</th>\n",
              "      <th>Name</th>\n",
              "      <th>Sex</th>\n",
              "      <th>Age</th>\n",
              "      <th>SibSp</th>\n",
              "      <th>Parch</th>\n",
              "      <th>Ticket</th>\n",
              "      <th>Fare</th>\n",
              "      <th>Cabin</th>\n",
              "      <th>Embarked</th>\n",
              "    </tr>\n",
              "  </thead>\n",
              "  <tbody>\n",
              "    <tr>\n",
              "      <th>0</th>\n",
              "      <td>1</td>\n",
              "      <td>0</td>\n",
              "      <td>3</td>\n",
              "      <td>Braund, Mr. Owen Harris</td>\n",
              "      <td>male</td>\n",
              "      <td>22.0</td>\n",
              "      <td>1</td>\n",
              "      <td>0</td>\n",
              "      <td>A/5 21171</td>\n",
              "      <td>7.2500</td>\n",
              "      <td>NaN</td>\n",
              "      <td>S</td>\n",
              "    </tr>\n",
              "    <tr>\n",
              "      <th>1</th>\n",
              "      <td>2</td>\n",
              "      <td>1</td>\n",
              "      <td>1</td>\n",
              "      <td>Cumings, Mrs. John Bradley (Florence Briggs Th...</td>\n",
              "      <td>female</td>\n",
              "      <td>38.0</td>\n",
              "      <td>1</td>\n",
              "      <td>0</td>\n",
              "      <td>PC 17599</td>\n",
              "      <td>71.2833</td>\n",
              "      <td>C85</td>\n",
              "      <td>C</td>\n",
              "    </tr>\n",
              "    <tr>\n",
              "      <th>2</th>\n",
              "      <td>3</td>\n",
              "      <td>1</td>\n",
              "      <td>3</td>\n",
              "      <td>Heikkinen, Miss. Laina</td>\n",
              "      <td>female</td>\n",
              "      <td>26.0</td>\n",
              "      <td>0</td>\n",
              "      <td>0</td>\n",
              "      <td>STON/O2. 3101282</td>\n",
              "      <td>7.9250</td>\n",
              "      <td>NaN</td>\n",
              "      <td>S</td>\n",
              "    </tr>\n",
              "    <tr>\n",
              "      <th>3</th>\n",
              "      <td>4</td>\n",
              "      <td>1</td>\n",
              "      <td>1</td>\n",
              "      <td>Futrelle, Mrs. Jacques Heath (Lily May Peel)</td>\n",
              "      <td>female</td>\n",
              "      <td>35.0</td>\n",
              "      <td>1</td>\n",
              "      <td>0</td>\n",
              "      <td>113803</td>\n",
              "      <td>53.1000</td>\n",
              "      <td>C123</td>\n",
              "      <td>S</td>\n",
              "    </tr>\n",
              "    <tr>\n",
              "      <th>4</th>\n",
              "      <td>5</td>\n",
              "      <td>0</td>\n",
              "      <td>3</td>\n",
              "      <td>Allen, Mr. William Henry</td>\n",
              "      <td>male</td>\n",
              "      <td>35.0</td>\n",
              "      <td>0</td>\n",
              "      <td>0</td>\n",
              "      <td>373450</td>\n",
              "      <td>8.0500</td>\n",
              "      <td>NaN</td>\n",
              "      <td>S</td>\n",
              "    </tr>\n",
              "  </tbody>\n",
              "</table>\n",
              "</div>"
            ],
            "text/plain": [
              "   PassengerId  Survived  Pclass  ...     Fare Cabin  Embarked\n",
              "0            1         0       3  ...   7.2500   NaN         S\n",
              "1            2         1       1  ...  71.2833   C85         C\n",
              "2            3         1       3  ...   7.9250   NaN         S\n",
              "3            4         1       1  ...  53.1000  C123         S\n",
              "4            5         0       3  ...   8.0500   NaN         S\n",
              "\n",
              "[5 rows x 12 columns]"
            ]
          },
          "metadata": {},
          "execution_count": 4
        }
      ]
    },
    {
      "cell_type": "code",
      "source": [
        "# Tail of dataset\n",
        "df.tail()"
      ],
      "metadata": {
        "colab": {
          "base_uri": "https://localhost:8080/",
          "height": 206
        },
        "id": "YIVvcK-uBAVe",
        "outputId": "e6e919b5-dd38-431a-b752-0f024911fc69"
      },
      "execution_count": null,
      "outputs": [
        {
          "output_type": "execute_result",
          "data": {
            "text/html": [
              "<div>\n",
              "<style scoped>\n",
              "    .dataframe tbody tr th:only-of-type {\n",
              "        vertical-align: middle;\n",
              "    }\n",
              "\n",
              "    .dataframe tbody tr th {\n",
              "        vertical-align: top;\n",
              "    }\n",
              "\n",
              "    .dataframe thead th {\n",
              "        text-align: right;\n",
              "    }\n",
              "</style>\n",
              "<table border=\"1\" class=\"dataframe\">\n",
              "  <thead>\n",
              "    <tr style=\"text-align: right;\">\n",
              "      <th></th>\n",
              "      <th>PassengerId</th>\n",
              "      <th>Survived</th>\n",
              "      <th>Pclass</th>\n",
              "      <th>Name</th>\n",
              "      <th>Sex</th>\n",
              "      <th>Age</th>\n",
              "      <th>SibSp</th>\n",
              "      <th>Parch</th>\n",
              "      <th>Ticket</th>\n",
              "      <th>Fare</th>\n",
              "      <th>Cabin</th>\n",
              "      <th>Embarked</th>\n",
              "    </tr>\n",
              "  </thead>\n",
              "  <tbody>\n",
              "    <tr>\n",
              "      <th>886</th>\n",
              "      <td>887</td>\n",
              "      <td>0</td>\n",
              "      <td>2</td>\n",
              "      <td>Montvila, Rev. Juozas</td>\n",
              "      <td>male</td>\n",
              "      <td>27.0</td>\n",
              "      <td>0</td>\n",
              "      <td>0</td>\n",
              "      <td>211536</td>\n",
              "      <td>13.00</td>\n",
              "      <td>NaN</td>\n",
              "      <td>S</td>\n",
              "    </tr>\n",
              "    <tr>\n",
              "      <th>887</th>\n",
              "      <td>888</td>\n",
              "      <td>1</td>\n",
              "      <td>1</td>\n",
              "      <td>Graham, Miss. Margaret Edith</td>\n",
              "      <td>female</td>\n",
              "      <td>19.0</td>\n",
              "      <td>0</td>\n",
              "      <td>0</td>\n",
              "      <td>112053</td>\n",
              "      <td>30.00</td>\n",
              "      <td>B42</td>\n",
              "      <td>S</td>\n",
              "    </tr>\n",
              "    <tr>\n",
              "      <th>888</th>\n",
              "      <td>889</td>\n",
              "      <td>0</td>\n",
              "      <td>3</td>\n",
              "      <td>Johnston, Miss. Catherine Helen \"Carrie\"</td>\n",
              "      <td>female</td>\n",
              "      <td>NaN</td>\n",
              "      <td>1</td>\n",
              "      <td>2</td>\n",
              "      <td>W./C. 6607</td>\n",
              "      <td>23.45</td>\n",
              "      <td>NaN</td>\n",
              "      <td>S</td>\n",
              "    </tr>\n",
              "    <tr>\n",
              "      <th>889</th>\n",
              "      <td>890</td>\n",
              "      <td>1</td>\n",
              "      <td>1</td>\n",
              "      <td>Behr, Mr. Karl Howell</td>\n",
              "      <td>male</td>\n",
              "      <td>26.0</td>\n",
              "      <td>0</td>\n",
              "      <td>0</td>\n",
              "      <td>111369</td>\n",
              "      <td>30.00</td>\n",
              "      <td>C148</td>\n",
              "      <td>C</td>\n",
              "    </tr>\n",
              "    <tr>\n",
              "      <th>890</th>\n",
              "      <td>891</td>\n",
              "      <td>0</td>\n",
              "      <td>3</td>\n",
              "      <td>Dooley, Mr. Patrick</td>\n",
              "      <td>male</td>\n",
              "      <td>32.0</td>\n",
              "      <td>0</td>\n",
              "      <td>0</td>\n",
              "      <td>370376</td>\n",
              "      <td>7.75</td>\n",
              "      <td>NaN</td>\n",
              "      <td>Q</td>\n",
              "    </tr>\n",
              "  </tbody>\n",
              "</table>\n",
              "</div>"
            ],
            "text/plain": [
              "     PassengerId  Survived  Pclass  ...   Fare Cabin  Embarked\n",
              "886          887         0       2  ...  13.00   NaN         S\n",
              "887          888         1       1  ...  30.00   B42         S\n",
              "888          889         0       3  ...  23.45   NaN         S\n",
              "889          890         1       1  ...  30.00  C148         C\n",
              "890          891         0       3  ...   7.75   NaN         Q\n",
              "\n",
              "[5 rows x 12 columns]"
            ]
          },
          "metadata": {},
          "execution_count": 5
        }
      ]
    },
    {
      "cell_type": "code",
      "source": [
        "# Checking for appropriate datatypes\n",
        "df.info()"
      ],
      "metadata": {
        "colab": {
          "base_uri": "https://localhost:8080/"
        },
        "id": "Uq_3L7MUBCf1",
        "outputId": "af5600cf-67eb-44b5-d034-e1e7a6877d46"
      },
      "execution_count": null,
      "outputs": [
        {
          "output_type": "stream",
          "name": "stdout",
          "text": [
            "<class 'pandas.core.frame.DataFrame'>\n",
            "RangeIndex: 891 entries, 0 to 890\n",
            "Data columns (total 12 columns):\n",
            " #   Column       Non-Null Count  Dtype  \n",
            "---  ------       --------------  -----  \n",
            " 0   PassengerId  891 non-null    int64  \n",
            " 1   Survived     891 non-null    int64  \n",
            " 2   Pclass       891 non-null    int64  \n",
            " 3   Name         891 non-null    object \n",
            " 4   Sex          891 non-null    object \n",
            " 5   Age          714 non-null    float64\n",
            " 6   SibSp        891 non-null    int64  \n",
            " 7   Parch        891 non-null    int64  \n",
            " 8   Ticket       891 non-null    object \n",
            " 9   Fare         891 non-null    float64\n",
            " 10  Cabin        204 non-null    object \n",
            " 11  Embarked     889 non-null    object \n",
            "dtypes: float64(2), int64(5), object(5)\n",
            "memory usage: 83.7+ KB\n"
          ]
        }
      ]
    },
    {
      "cell_type": "markdown",
      "source": [
        "## 4. Data Cleaning"
      ],
      "metadata": {
        "id": "21lJAx8YBMgO"
      }
    },
    {
      "cell_type": "code",
      "source": [
        "# 1. Dropping unnecassery columns\n",
        "df.drop([\"Name\", \"Ticket\", \"Cabin\"], axis = 1, inplace = True)"
      ],
      "metadata": {
        "id": "3uAA-wtsBV5w"
      },
      "execution_count": null,
      "outputs": []
    },
    {
      "cell_type": "code",
      "source": [
        "# 2. Checking for null values\n",
        "df.isnull().sum()"
      ],
      "metadata": {
        "colab": {
          "base_uri": "https://localhost:8080/"
        },
        "id": "iTG7Ga1JBGky",
        "outputId": "fe0a2468-0ccd-43e6-f0cc-5dab0ada4dfc"
      },
      "execution_count": null,
      "outputs": [
        {
          "output_type": "execute_result",
          "data": {
            "text/plain": [
              "PassengerId      0\n",
              "Survived         0\n",
              "Pclass           0\n",
              "Sex              0\n",
              "Age            177\n",
              "SibSp            0\n",
              "Parch            0\n",
              "Fare             0\n",
              "Embarked         2\n",
              "dtype: int64"
            ]
          },
          "metadata": {},
          "execution_count": 8
        }
      ]
    },
    {
      "cell_type": "code",
      "source": [
        "# Filling in the null values\n",
        "df[\"Age\"] = df[\"Age\"].fillna(value = df[\"Age\"].mean(), axis = 0)"
      ],
      "metadata": {
        "id": "GD41j0zHBTrE"
      },
      "execution_count": null,
      "outputs": []
    },
    {
      "cell_type": "code",
      "source": [
        "# Dropping rows with null values\n",
        "df.dropna(axis = 0, subset = [\"Embarked\"], inplace = True)"
      ],
      "metadata": {
        "id": "tyPRQkh8B_wh"
      },
      "execution_count": null,
      "outputs": []
    },
    {
      "cell_type": "code",
      "source": [
        "# Checking for null values\n",
        "df.isnull().sum()"
      ],
      "metadata": {
        "colab": {
          "base_uri": "https://localhost:8080/"
        },
        "id": "jPudaYBpB5PB",
        "outputId": "f4fdb59c-9663-4ea6-8a78-7c4282534c22"
      },
      "execution_count": null,
      "outputs": [
        {
          "output_type": "execute_result",
          "data": {
            "text/plain": [
              "PassengerId    0\n",
              "Survived       0\n",
              "Pclass         0\n",
              "Sex            0\n",
              "Age            0\n",
              "SibSp          0\n",
              "Parch          0\n",
              "Fare           0\n",
              "Embarked       0\n",
              "dtype: int64"
            ]
          },
          "metadata": {},
          "execution_count": 11
        }
      ]
    },
    {
      "cell_type": "code",
      "source": [
        "# 3. Checking for duplicate rows\n",
        "df.duplicated().sum()"
      ],
      "metadata": {
        "colab": {
          "base_uri": "https://localhost:8080/"
        },
        "id": "DxGSPGysCTBK",
        "outputId": "28168c32-c988-4304-80fe-cb7ff9248ad5"
      },
      "execution_count": null,
      "outputs": [
        {
          "output_type": "execute_result",
          "data": {
            "text/plain": [
              "0"
            ]
          },
          "metadata": {},
          "execution_count": 12
        }
      ]
    },
    {
      "cell_type": "code",
      "source": [
        "# 4. Dropping other unnecassery columns\n",
        "df.drop([\"PassengerId\"], axis = 1, inplace = True)"
      ],
      "metadata": {
        "id": "zDvts-uTB91g"
      },
      "execution_count": null,
      "outputs": []
    },
    {
      "cell_type": "code",
      "source": [
        "# 5. Checking for outliers\n",
        "sns.boxplot(data = df, x = \"Fare\")"
      ],
      "metadata": {
        "colab": {
          "base_uri": "https://localhost:8080/",
          "height": 296
        },
        "id": "RYxz8Q2bDvbL",
        "outputId": "d739fbce-c07c-4eeb-f5ab-bfd8fe9b65c5"
      },
      "execution_count": null,
      "outputs": [
        {
          "output_type": "execute_result",
          "data": {
            "text/plain": [
              "<matplotlib.axes._subplots.AxesSubplot at 0x7f8a5a948510>"
            ]
          },
          "metadata": {},
          "execution_count": 14
        },
        {
          "output_type": "display_data",
          "data": {
            "image/png": "[encoded data removed]",
            "text/plain": [
              "<Figure size 432x288 with 1 Axes>"
            ]
          },
          "metadata": {
            "needs_background": "light"
          }
        }
      ]
    },
    {
      "cell_type": "code",
      "source": [
        "# There are a few outliers. However,\n",
        "# there are different classes on the ship. So the highest\n",
        "# paid one might be the most expensive one. For example a deluxe\n",
        "# suite."
      ],
      "metadata": {
        "id": "lEtg5OkhEMeu"
      },
      "execution_count": null,
      "outputs": []
    },
    {
      "cell_type": "code",
      "source": [
        "# 6. Checking for anomalies\n",
        "sns.displot(data = df, x = \"Fare\")"
      ],
      "metadata": {
        "colab": {
          "base_uri": "https://localhost:8080/",
          "height": 386
        },
        "id": "Xciwtk1aEKRy",
        "outputId": "57661984-0a68-4cb8-db8c-7699685f184e"
      },
      "execution_count": null,
      "outputs": [
        {
          "output_type": "execute_result",
          "data": {
            "text/plain": [
              "<seaborn.axisgrid.FacetGrid at 0x7f8a5a95bed0>"
            ]
          },
          "metadata": {},
          "execution_count": 16
        },
        {
          "output_type": "display_data",
          "data": {
            "image/png": "[encoded data removed]",
            "text/plain": [
              "<Figure size 360x360 with 1 Axes>"
            ]
          },
          "metadata": {
            "needs_background": "light"
          }
        }
      ]
    },
    {
      "cell_type": "code",
      "source": [
        "# Looks ok.\n",
        "# Most fares are around 5 / 10 dollars.\n",
        "# Which is fine. As it is not a very expensive\n",
        "# cruise."
      ],
      "metadata": {
        "id": "8buxNvPMEuU0"
      },
      "execution_count": null,
      "outputs": []
    },
    {
      "cell_type": "markdown",
      "source": [
        "## 5. Data Preparation"
      ],
      "metadata": {
        "id": "ovJ0ry5ME8WO"
      }
    },
    {
      "cell_type": "code",
      "source": [
        "# Convert string columns to numerical columns"
      ],
      "metadata": {
        "id": "H4V7gJasE-k0"
      },
      "execution_count": null,
      "outputs": []
    },
    {
      "cell_type": "code",
      "source": [
        "# Label encoding\n",
        "df[\"Sex\"] = df[\"Sex\"].replace({\"male\": 1, \"female\": 0})"
      ],
      "metadata": {
        "id": "Th_E7351FNj-"
      },
      "execution_count": null,
      "outputs": []
    },
    {
      "cell_type": "code",
      "source": [
        "# One-hot encoding\n",
        "df[\"Embarked_original\"] = df[\"Embarked\"]\n",
        "df = pd.get_dummies(data = df, columns = [\"Embarked\"], drop_first = True)"
      ],
      "metadata": {
        "id": "9x57laOiHEg-"
      },
      "execution_count": null,
      "outputs": []
    },
    {
      "cell_type": "code",
      "source": [
        "df.head()"
      ],
      "metadata": {
        "colab": {
          "base_uri": "https://localhost:8080/",
          "height": 206
        },
        "id": "8ERGcwBqFKx_",
        "outputId": "4868b388-40b5-47ec-fde1-796f14e7f8fa"
      },
      "execution_count": null,
      "outputs": [
        {
          "output_type": "execute_result",
          "data": {
            "text/html": [
              "<div>\n",
              "<style scoped>\n",
              "    .dataframe tbody tr th:only-of-type {\n",
              "        vertical-align: middle;\n",
              "    }\n",
              "\n",
              "    .dataframe tbody tr th {\n",
              "        vertical-align: top;\n",
              "    }\n",
              "\n",
              "    .dataframe thead th {\n",
              "        text-align: right;\n",
              "    }\n",
              "</style>\n",
              "<table border=\"1\" class=\"dataframe\">\n",
              "  <thead>\n",
              "    <tr style=\"text-align: right;\">\n",
              "      <th></th>\n",
              "      <th>Survived</th>\n",
              "      <th>Pclass</th>\n",
              "      <th>Sex</th>\n",
              "      <th>Age</th>\n",
              "      <th>SibSp</th>\n",
              "      <th>Parch</th>\n",
              "      <th>Fare</th>\n",
              "      <th>Embarked_original</th>\n",
              "      <th>Embarked_Q</th>\n",
              "      <th>Embarked_S</th>\n",
              "    </tr>\n",
              "  </thead>\n",
              "  <tbody>\n",
              "    <tr>\n",
              "      <th>0</th>\n",
              "      <td>0</td>\n",
              "      <td>3</td>\n",
              "      <td>1</td>\n",
              "      <td>22.0</td>\n",
              "      <td>1</td>\n",
              "      <td>0</td>\n",
              "      <td>7.2500</td>\n",
              "      <td>S</td>\n",
              "      <td>0</td>\n",
              "      <td>1</td>\n",
              "    </tr>\n",
              "    <tr>\n",
              "      <th>1</th>\n",
              "      <td>1</td>\n",
              "      <td>1</td>\n",
              "      <td>0</td>\n",
              "      <td>38.0</td>\n",
              "      <td>1</td>\n",
              "      <td>0</td>\n",
              "      <td>71.2833</td>\n",
              "      <td>C</td>\n",
              "      <td>0</td>\n",
              "      <td>0</td>\n",
              "    </tr>\n",
              "    <tr>\n",
              "      <th>2</th>\n",
              "      <td>1</td>\n",
              "      <td>3</td>\n",
              "      <td>0</td>\n",
              "      <td>26.0</td>\n",
              "      <td>0</td>\n",
              "      <td>0</td>\n",
              "      <td>7.9250</td>\n",
              "      <td>S</td>\n",
              "      <td>0</td>\n",
              "      <td>1</td>\n",
              "    </tr>\n",
              "    <tr>\n",
              "      <th>3</th>\n",
              "      <td>1</td>\n",
              "      <td>1</td>\n",
              "      <td>0</td>\n",
              "      <td>35.0</td>\n",
              "      <td>1</td>\n",
              "      <td>0</td>\n",
              "      <td>53.1000</td>\n",
              "      <td>S</td>\n",
              "      <td>0</td>\n",
              "      <td>1</td>\n",
              "    </tr>\n",
              "    <tr>\n",
              "      <th>4</th>\n",
              "      <td>0</td>\n",
              "      <td>3</td>\n",
              "      <td>1</td>\n",
              "      <td>35.0</td>\n",
              "      <td>0</td>\n",
              "      <td>0</td>\n",
              "      <td>8.0500</td>\n",
              "      <td>S</td>\n",
              "      <td>0</td>\n",
              "      <td>1</td>\n",
              "    </tr>\n",
              "  </tbody>\n",
              "</table>\n",
              "</div>"
            ],
            "text/plain": [
              "   Survived  Pclass  Sex  ...  Embarked_original  Embarked_Q  Embarked_S\n",
              "0         0       3    1  ...                  S           0           1\n",
              "1         1       1    0  ...                  C           0           0\n",
              "2         1       3    0  ...                  S           0           1\n",
              "3         1       1    0  ...                  S           0           1\n",
              "4         0       3    1  ...                  S           0           1\n",
              "\n",
              "[5 rows x 10 columns]"
            ]
          },
          "metadata": {},
          "execution_count": 21
        }
      ]
    },
    {
      "cell_type": "code",
      "source": [
        "# Note: I will not do standardization.\n",
        "# As I do not want to loose any data that I have from\n",
        "# the Fare or Age column. As that would reduce the accuracy of\n",
        "# the model"
      ],
      "metadata": {
        "id": "s5m2M0cfHHDS"
      },
      "execution_count": null,
      "outputs": []
    },
    {
      "cell_type": "markdown",
      "source": [
        "## 6. Exploratory Data Analysis"
      ],
      "metadata": {
        "id": "ccMWDKClHqlr"
      }
    },
    {
      "cell_type": "code",
      "source": [
        "df.head()"
      ],
      "metadata": {
        "colab": {
          "base_uri": "https://localhost:8080/",
          "height": 206
        },
        "id": "-szcS5M5HyCT",
        "outputId": "a6362bb0-dcf4-4e8f-9fcc-35078add3c75"
      },
      "execution_count": null,
      "outputs": [
        {
          "output_type": "execute_result",
          "data": {
            "text/html": [
              "<div>\n",
              "<style scoped>\n",
              "    .dataframe tbody tr th:only-of-type {\n",
              "        vertical-align: middle;\n",
              "    }\n",
              "\n",
              "    .dataframe tbody tr th {\n",
              "        vertical-align: top;\n",
              "    }\n",
              "\n",
              "    .dataframe thead th {\n",
              "        text-align: right;\n",
              "    }\n",
              "</style>\n",
              "<table border=\"1\" class=\"dataframe\">\n",
              "  <thead>\n",
              "    <tr style=\"text-align: right;\">\n",
              "      <th></th>\n",
              "      <th>Survived</th>\n",
              "      <th>Pclass</th>\n",
              "      <th>Sex</th>\n",
              "      <th>Age</th>\n",
              "      <th>SibSp</th>\n",
              "      <th>Parch</th>\n",
              "      <th>Fare</th>\n",
              "      <th>Embarked_original</th>\n",
              "      <th>Embarked_Q</th>\n",
              "      <th>Embarked_S</th>\n",
              "    </tr>\n",
              "  </thead>\n",
              "  <tbody>\n",
              "    <tr>\n",
              "      <th>0</th>\n",
              "      <td>0</td>\n",
              "      <td>3</td>\n",
              "      <td>1</td>\n",
              "      <td>22.0</td>\n",
              "      <td>1</td>\n",
              "      <td>0</td>\n",
              "      <td>7.2500</td>\n",
              "      <td>S</td>\n",
              "      <td>0</td>\n",
              "      <td>1</td>\n",
              "    </tr>\n",
              "    <tr>\n",
              "      <th>1</th>\n",
              "      <td>1</td>\n",
              "      <td>1</td>\n",
              "      <td>0</td>\n",
              "      <td>38.0</td>\n",
              "      <td>1</td>\n",
              "      <td>0</td>\n",
              "      <td>71.2833</td>\n",
              "      <td>C</td>\n",
              "      <td>0</td>\n",
              "      <td>0</td>\n",
              "    </tr>\n",
              "    <tr>\n",
              "      <th>2</th>\n",
              "      <td>1</td>\n",
              "      <td>3</td>\n",
              "      <td>0</td>\n",
              "      <td>26.0</td>\n",
              "      <td>0</td>\n",
              "      <td>0</td>\n",
              "      <td>7.9250</td>\n",
              "      <td>S</td>\n",
              "      <td>0</td>\n",
              "      <td>1</td>\n",
              "    </tr>\n",
              "    <tr>\n",
              "      <th>3</th>\n",
              "      <td>1</td>\n",
              "      <td>1</td>\n",
              "      <td>0</td>\n",
              "      <td>35.0</td>\n",
              "      <td>1</td>\n",
              "      <td>0</td>\n",
              "      <td>53.1000</td>\n",
              "      <td>S</td>\n",
              "      <td>0</td>\n",
              "      <td>1</td>\n",
              "    </tr>\n",
              "    <tr>\n",
              "      <th>4</th>\n",
              "      <td>0</td>\n",
              "      <td>3</td>\n",
              "      <td>1</td>\n",
              "      <td>35.0</td>\n",
              "      <td>0</td>\n",
              "      <td>0</td>\n",
              "      <td>8.0500</td>\n",
              "      <td>S</td>\n",
              "      <td>0</td>\n",
              "      <td>1</td>\n",
              "    </tr>\n",
              "  </tbody>\n",
              "</table>\n",
              "</div>"
            ],
            "text/plain": [
              "   Survived  Pclass  Sex  ...  Embarked_original  Embarked_Q  Embarked_S\n",
              "0         0       3    1  ...                  S           0           1\n",
              "1         1       1    0  ...                  C           0           0\n",
              "2         1       3    0  ...                  S           0           1\n",
              "3         1       1    0  ...                  S           0           1\n",
              "4         0       3    1  ...                  S           0           1\n",
              "\n",
              "[5 rows x 10 columns]"
            ]
          },
          "metadata": {},
          "execution_count": 23
        }
      ]
    },
    {
      "cell_type": "code",
      "source": [
        "sns.countplot(data = df, x = \"Pclass\", hue = \"Survived\")"
      ],
      "metadata": {
        "colab": {
          "base_uri": "https://localhost:8080/",
          "height": 296
        },
        "id": "-OD0ZweZLsgE",
        "outputId": "70094628-bc58-43a0-fe3a-e6a81125282f"
      },
      "execution_count": null,
      "outputs": [
        {
          "output_type": "execute_result",
          "data": {
            "text/plain": [
              "<matplotlib.axes._subplots.AxesSubplot at 0x7f8a5b197390>"
            ]
          },
          "metadata": {},
          "execution_count": 24
        },
        {
          "output_type": "display_data",
          "data": {
            "image/png": "[encoded data removed]",
            "text/plain": [
              "<Figure size 432x288 with 1 Axes>"
            ]
          },
          "metadata": {
            "needs_background": "light"
          }
        }
      ]
    },
    {
      "cell_type": "code",
      "source": [
        "# It seems those in first and second class survived\n",
        "# more. It's probably that they were given priority.\n",
        "# Over the other passengers."
      ],
      "metadata": {
        "id": "FqjP5FGVMhJ0"
      },
      "execution_count": null,
      "outputs": []
    },
    {
      "cell_type": "code",
      "source": [
        "sns.countplot(data = df, x = \"Sex\", hue = \"Survived\")"
      ],
      "metadata": {
        "colab": {
          "base_uri": "https://localhost:8080/",
          "height": 296
        },
        "id": "LwX0Glq8Mb_O",
        "outputId": "c92b0cd9-1da6-4b5f-e5b1-575f6ed58238"
      },
      "execution_count": null,
      "outputs": [
        {
          "output_type": "execute_result",
          "data": {
            "text/plain": [
              "<matplotlib.axes._subplots.AxesSubplot at 0x7f8a50f935d0>"
            ]
          },
          "metadata": {},
          "execution_count": 26
        },
        {
          "output_type": "display_data",
          "data": {
            "image/png": "[encoded data removed]",
            "text/plain": [
              "<Figure size 432x288 with 1 Axes>"
            ]
          },
          "metadata": {
            "needs_background": "light"
          }
        }
      ]
    },
    {
      "cell_type": "code",
      "source": [
        "# It's seems females were much more likely\n",
        "# to survive than men."
      ],
      "metadata": {
        "id": "JOZxDXXJOCuC"
      },
      "execution_count": null,
      "outputs": []
    },
    {
      "cell_type": "code",
      "source": [
        "sns.countplot(data = df, x = \"SibSp\", hue = \"Survived\")"
      ],
      "metadata": {
        "colab": {
          "base_uri": "https://localhost:8080/",
          "height": 296
        },
        "id": "VsfriiYEOAJw",
        "outputId": "fe4809f1-e9e1-48c7-f62e-f9857255e275"
      },
      "execution_count": null,
      "outputs": [
        {
          "output_type": "execute_result",
          "data": {
            "text/plain": [
              "<matplotlib.axes._subplots.AxesSubplot at 0x7f8a50edcf50>"
            ]
          },
          "metadata": {},
          "execution_count": 28
        },
        {
          "output_type": "display_data",
          "data": {
            "image/png": "[encoded data removed]",
            "text/plain": [
              "<Figure size 432x288 with 1 Axes>"
            ]
          },
          "metadata": {
            "needs_background": "light"
          }
        }
      ]
    },
    {
      "cell_type": "code",
      "source": [
        "# It seems if you had 1/2 brothers/spouses\n",
        "# you more likely to survive. As thise were only ones,\n",
        "# where almost half the people survived as didn't survive"
      ],
      "metadata": {
        "id": "CEVb3aGuOQV7"
      },
      "execution_count": null,
      "outputs": []
    },
    {
      "cell_type": "code",
      "source": [
        "sns.countplot(data = df, x = \"Parch\", hue = \"Survived\")"
      ],
      "metadata": {
        "colab": {
          "base_uri": "https://localhost:8080/",
          "height": 296
        },
        "id": "iDSAoobFN_KZ",
        "outputId": "9938ab47-ed61-4506-84f8-0a17d58e18f6"
      },
      "execution_count": null,
      "outputs": [
        {
          "output_type": "execute_result",
          "data": {
            "text/plain": [
              "<matplotlib.axes._subplots.AxesSubplot at 0x7f8a50efdd10>"
            ]
          },
          "metadata": {},
          "execution_count": 30
        },
        {
          "output_type": "display_data",
          "data": {
            "image/png": "[encoded data removed]",
            "text/plain": [
              "<Figure size 432x288 with 1 Axes>"
            ]
          },
          "metadata": {
            "needs_background": "light"
          }
        }
      ]
    },
    {
      "cell_type": "code",
      "source": [
        "# It seems if you had 1 - 3 parents/\n",
        "# children. You were more likely to survive\n",
        "# as they may have helped you onboard the life rafts."
      ],
      "metadata": {
        "id": "vII050fPOrVG"
      },
      "execution_count": null,
      "outputs": []
    },
    {
      "cell_type": "code",
      "source": [
        "sns.countplot(data = df, x = \"Embarked_original\", hue = \"Survived\")"
      ],
      "metadata": {
        "colab": {
          "base_uri": "https://localhost:8080/",
          "height": 297
        },
        "id": "NAm4r2MYPAfq",
        "outputId": "9ca55b92-5177-430b-e6f3-b321ebe19c9f"
      },
      "execution_count": null,
      "outputs": [
        {
          "output_type": "execute_result",
          "data": {
            "text/plain": [
              "<matplotlib.axes._subplots.AxesSubplot at 0x7f8a50db4a90>"
            ]
          },
          "metadata": {},
          "execution_count": 32
        },
        {
          "output_type": "display_data",
          "data": {
            "image/png": "[encoded data removed]",
            "text/plain": [
              "<Figure size 432x288 with 1 Axes>"
            ]
          },
          "metadata": {
            "needs_background": "light"
          }
        }
      ]
    },
    {
      "cell_type": "code",
      "source": [
        "# S - Southampton, C - Cherbourg, Q - Queenstown"
      ],
      "metadata": {
        "id": "HT8rUx4eQTIc"
      },
      "execution_count": null,
      "outputs": []
    },
    {
      "cell_type": "code",
      "source": [
        "# It seems those who came from Cherbourg had a much higher\n",
        "# chance of surviving, than those from Southampton. Also Queenstown\n",
        "# had quite a high survival rate."
      ],
      "metadata": {
        "id": "rPDLv0evP48G"
      },
      "execution_count": null,
      "outputs": []
    },
    {
      "cell_type": "code",
      "source": [
        "sns.displot(data = df, x = \"Age\", hue = \"Survived\")"
      ],
      "metadata": {
        "colab": {
          "base_uri": "https://localhost:8080/",
          "height": 386
        },
        "id": "Mlf9zBZ5QdFj",
        "outputId": "d365ce7a-cf9f-4669-9e64-b219148bfe48"
      },
      "execution_count": null,
      "outputs": [
        {
          "output_type": "execute_result",
          "data": {
            "text/plain": [
              "<seaborn.axisgrid.FacetGrid at 0x7f8a50d88390>"
            ]
          },
          "metadata": {},
          "execution_count": 35
        },
        {
          "output_type": "display_data",
          "data": {
            "image/png": "[encoded data removed]",
            "text/plain": [
              "<Figure size 411.875x360 with 1 Axes>"
            ]
          },
          "metadata": {
            "needs_background": "light"
          }
        }
      ]
    },
    {
      "cell_type": "code",
      "source": [
        "# It seems the young and the old\n",
        "# were given the most priority. As most babies\n",
        "# survived, and more elderly people. When compared to\n",
        "# the middle, where most of them did no survive.\n",
        "# When you look at the ratios."
      ],
      "metadata": {
        "id": "zuQ58Z3tQrsX"
      },
      "execution_count": null,
      "outputs": []
    },
    {
      "cell_type": "code",
      "source": [
        "sns.displot(data = df[df[\"Fare\"] < 300], x = \"Fare\", hue = \"Survived\")"
      ],
      "metadata": {
        "colab": {
          "base_uri": "https://localhost:8080/",
          "height": 386
        },
        "id": "Qw1Pf0GKRDfJ",
        "outputId": "54f36fc3-5ee1-4f10-f235-e83bed64ae3b"
      },
      "execution_count": null,
      "outputs": [
        {
          "output_type": "execute_result",
          "data": {
            "text/plain": [
              "<seaborn.axisgrid.FacetGrid at 0x7f8a50f22a10>"
            ]
          },
          "metadata": {},
          "execution_count": 37
        },
        {
          "output_type": "display_data",
          "data": {
            "image/png": "[encoded data removed]",
            "text/plain": [
              "<Figure size 411.875x360 with 1 Axes>"
            ]
          },
          "metadata": {
            "needs_background": "light"
          }
        }
      ]
    },
    {
      "cell_type": "code",
      "source": [
        "# It seems those that paid more had a much higher chance\n",
        "# of surviving. Which means they were most likely given\n",
        "# priority. Over the lower paying passengers."
      ],
      "metadata": {
        "id": "yohZDf4-Rwym"
      },
      "execution_count": null,
      "outputs": []
    },
    {
      "cell_type": "markdown",
      "source": [
        "## 7. Implementing the solution"
      ],
      "metadata": {
        "id": "sAlD60erT1SZ"
      }
    },
    {
      "cell_type": "markdown",
      "source": [
        "Dropping unneeded columns"
      ],
      "metadata": {
        "id": "8kXXgUyGVvlS"
      }
    },
    {
      "cell_type": "code",
      "source": [
        "df.drop(\"Embarked_original\", axis = 1, inplace = True) # Not needed after visualizations"
      ],
      "metadata": {
        "id": "37JkR_GDQoI7"
      },
      "execution_count": null,
      "outputs": []
    },
    {
      "cell_type": "markdown",
      "source": [
        "Importing libraries"
      ],
      "metadata": {
        "id": "zyvWa3aCjPZE"
      }
    },
    {
      "cell_type": "code",
      "source": [
        "from sklearn.model_selection import train_test_split\n",
        "from sklearn.neighbors import KNeighborsClassifier\n",
        "from sklearn.metrics import confusion_matrix, classification_report"
      ],
      "metadata": {
        "id": "eElIJAtrjRfH"
      },
      "execution_count": null,
      "outputs": []
    },
    {
      "cell_type": "markdown",
      "source": [
        "Creating variables"
      ],
      "metadata": {
        "id": "5qelvkzKkssM"
      }
    },
    {
      "cell_type": "code",
      "source": [
        "model_predictions = []\n",
        "test_sets = []"
      ],
      "metadata": {
        "id": "aeFBy7GEkuMI"
      },
      "execution_count": null,
      "outputs": []
    },
    {
      "cell_type": "markdown",
      "source": [
        "X & Y"
      ],
      "metadata": {
        "id": "vhXKhQJ2V2DW"
      }
    },
    {
      "cell_type": "code",
      "source": [
        "X = df.drop(\"Survived\", axis = 1)\n",
        "y = df[\"Survived\"]"
      ],
      "metadata": {
        "id": "RF8DSVXIT4Im"
      },
      "execution_count": null,
      "outputs": []
    },
    {
      "cell_type": "markdown",
      "source": [
        "Modelling - loop"
      ],
      "metadata": {
        "id": "9HxoPi_UkGKW"
      }
    },
    {
      "cell_type": "code",
      "source": [
        "test_size = [0.2, 0.3, 0.4]\n",
        "for size in test_size:\n",
        "  X_train, X_test, y_train, y_test = train_test_split(X, y, test_size= size, random_state=101) # Train test split\n",
        "  Knn = KNeighborsClassifier(n_neighbors= 12) # KNN instance\n",
        "  Knn.fit(X_train, y_train) # Fit to model\n",
        "  predictions = Knn.predict(X_test) # Get predictions\n",
        "\n",
        "  # Append to variables\n",
        "  model_predictions.append(predictions)\n",
        "  test_sets.append(y_test)"
      ],
      "metadata": {
        "id": "6aXQxyetkKFo"
      },
      "execution_count": null,
      "outputs": []
    },
    {
      "cell_type": "markdown",
      "source": [
        "Evaluation - 20 / 80 split size"
      ],
      "metadata": {
        "id": "yM_xIKGNjwM_"
      }
    },
    {
      "cell_type": "code",
      "source": [
        "confusion_matrix(test_sets[0], model_predictions[0])"
      ],
      "metadata": {
        "colab": {
          "base_uri": "https://localhost:8080/"
        },
        "id": "rKSLm1XcjxBB",
        "outputId": "5ea8cc90-c55c-406f-a161-d2b29f2b3afc"
      },
      "execution_count": null,
      "outputs": [
        {
          "output_type": "execute_result",
          "data": {
            "text/plain": [
              "array([[90, 17],\n",
              "       [35, 36]])"
            ]
          },
          "metadata": {},
          "execution_count": 44
        }
      ]
    },
    {
      "cell_type": "code",
      "source": [
        "print(classification_report(test_sets[0], model_predictions[0]))"
      ],
      "metadata": {
        "colab": {
          "base_uri": "https://localhost:8080/"
        },
        "id": "XdTst9qQjyXu",
        "outputId": "10f3bcf0-bd6a-42f7-f61c-65ec4564b408"
      },
      "execution_count": null,
      "outputs": [
        {
          "output_type": "stream",
          "name": "stdout",
          "text": [
            "              precision    recall  f1-score   support\n",
            "\n",
            "           0       0.72      0.84      0.78       107\n",
            "           1       0.68      0.51      0.58        71\n",
            "\n",
            "    accuracy                           0.71       178\n",
            "   macro avg       0.70      0.67      0.68       178\n",
            "weighted avg       0.70      0.71      0.70       178\n",
            "\n"
          ]
        }
      ]
    },
    {
      "cell_type": "markdown",
      "source": [
        "Evaluation - 30 / 70 split size"
      ],
      "metadata": {
        "id": "jkmAQuOjlgAU"
      }
    },
    {
      "cell_type": "code",
      "source": [
        "confusion_matrix(test_sets[1], model_predictions[1])"
      ],
      "metadata": {
        "colab": {
          "base_uri": "https://localhost:8080/"
        },
        "id": "UUJAsRpEj1yX",
        "outputId": "95d4f2ee-4e35-4604-a7f3-a7a5ea0cda6b"
      },
      "execution_count": null,
      "outputs": [
        {
          "output_type": "execute_result",
          "data": {
            "text/plain": [
              "array([[136,  27],\n",
              "       [ 55,  49]])"
            ]
          },
          "metadata": {},
          "execution_count": 46
        }
      ]
    },
    {
      "cell_type": "code",
      "source": [
        "print(classification_report(test_sets[1], model_predictions[1]))"
      ],
      "metadata": {
        "colab": {
          "base_uri": "https://localhost:8080/"
        },
        "id": "RXiqzvGKlnXj",
        "outputId": "4daf2eea-1675-4b02-f60b-601f3b180689"
      },
      "execution_count": null,
      "outputs": [
        {
          "output_type": "stream",
          "name": "stdout",
          "text": [
            "              precision    recall  f1-score   support\n",
            "\n",
            "           0       0.71      0.83      0.77       163\n",
            "           1       0.64      0.47      0.54       104\n",
            "\n",
            "    accuracy                           0.69       267\n",
            "   macro avg       0.68      0.65      0.66       267\n",
            "weighted avg       0.69      0.69      0.68       267\n",
            "\n"
          ]
        }
      ]
    },
    {
      "cell_type": "markdown",
      "source": [
        "Evaluation - 40 / 60 split size"
      ],
      "metadata": {
        "id": "prKVjQnplpyP"
      }
    },
    {
      "cell_type": "code",
      "source": [
        "confusion_matrix(test_sets[2], model_predictions[2])"
      ],
      "metadata": {
        "colab": {
          "base_uri": "https://localhost:8080/"
        },
        "id": "uj5AUwmXlrz_",
        "outputId": "94cb06b7-1eb6-4902-a0b5-c6ef7b896cb2"
      },
      "execution_count": null,
      "outputs": [
        {
          "output_type": "execute_result",
          "data": {
            "text/plain": [
              "array([[177,  39],\n",
              "       [ 78,  62]])"
            ]
          },
          "metadata": {},
          "execution_count": 48
        }
      ]
    },
    {
      "cell_type": "code",
      "source": [
        "print(classification_report(test_sets[2], model_predictions[2]))"
      ],
      "metadata": {
        "colab": {
          "base_uri": "https://localhost:8080/"
        },
        "id": "1x_-hhbglvIN",
        "outputId": "5a6d49e4-cb5a-4682-eb36-3ed856700190"
      },
      "execution_count": null,
      "outputs": [
        {
          "output_type": "stream",
          "name": "stdout",
          "text": [
            "              precision    recall  f1-score   support\n",
            "\n",
            "           0       0.69      0.82      0.75       216\n",
            "           1       0.61      0.44      0.51       140\n",
            "\n",
            "    accuracy                           0.67       356\n",
            "   macro avg       0.65      0.63      0.63       356\n",
            "weighted avg       0.66      0.67      0.66       356\n",
            "\n"
          ]
        }
      ]
    },
    {
      "cell_type": "markdown",
      "source": [
        "The accuracy seems to go down every time we decrease the test size. This is because their are fewer points for the KNN algorithm to map in it's space. So it is harder to define points as survived or not. However with more points it also reduces variance. So having more points may not help too much, and having a good balance between bias and variance. May be the best for a KNN model."
      ],
      "metadata": {
        "id": "GMjniLTpl4X4"
      }
    },
    {
      "cell_type": "markdown",
      "source": [
        "Optimization technique"
      ],
      "metadata": {
        "id": "SJz54GhDmjGI"
      }
    },
    {
      "cell_type": "code",
      "source": [
        "# I'll use the euclidean distance technique.\n",
        "# To improve the accuracy of the model. So that we can get more accurate\n",
        "# predictions when grouping the observations. Also I'll reduce the number\n",
        "# of k-values. As I would like to reduce variance. This will increase the accuracy of\n",
        "# the model."
      ],
      "metadata": {
        "id": "qMoJ5PiOl3QB"
      },
      "execution_count": null,
      "outputs": []
    },
    {
      "cell_type": "code",
      "source": [
        "# Train test split\n",
        "X_train, X_test, y_train, y_test = train_test_split(X, y, test_size = 0.3, random_state=101) \n",
        "# Creating KNN instance\n",
        "Knn = KNeighborsClassifier(weights = \"distance\", metric = \"euclidean\", n_neighbors = 7) \n",
        "# Fit to model\n",
        "Knn.fit(X_train, y_train) \n",
        "# Making predictions\n",
        "predictions = Knn.predict(X_test)"
      ],
      "metadata": {
        "id": "O6KZbap0m4Mv"
      },
      "execution_count": null,
      "outputs": []
    },
    {
      "cell_type": "markdown",
      "source": [
        "Evaluation"
      ],
      "metadata": {
        "id": "3ueaTIrQn-bu"
      }
    },
    {
      "cell_type": "code",
      "source": [
        "confusion_matrix(y_test, predictions)"
      ],
      "metadata": {
        "colab": {
          "base_uri": "https://localhost:8080/"
        },
        "id": "6wTH8Frkn_Fh",
        "outputId": "af27e61b-cdf8-4944-d26c-6fca97bb29ef"
      },
      "execution_count": null,
      "outputs": [
        {
          "output_type": "execute_result",
          "data": {
            "text/plain": [
              "array([[127,  36],\n",
              "       [ 38,  66]])"
            ]
          },
          "metadata": {},
          "execution_count": 52
        }
      ]
    },
    {
      "cell_type": "code",
      "source": [
        "print(classification_report(y_test, predictions))"
      ],
      "metadata": {
        "colab": {
          "base_uri": "https://localhost:8080/"
        },
        "id": "fI3Kw4b3oEgK",
        "outputId": "540da424-80ce-4de9-dc7e-b33009ded509"
      },
      "execution_count": null,
      "outputs": [
        {
          "output_type": "stream",
          "name": "stdout",
          "text": [
            "              precision    recall  f1-score   support\n",
            "\n",
            "           0       0.77      0.78      0.77       163\n",
            "           1       0.65      0.63      0.64       104\n",
            "\n",
            "    accuracy                           0.72       267\n",
            "   macro avg       0.71      0.71      0.71       267\n",
            "weighted avg       0.72      0.72      0.72       267\n",
            "\n"
          ]
        }
      ]
    },
    {
      "cell_type": "markdown",
      "source": [
        "We were able to classify those that did not survive with a higher accuracy. While we were not able to classify those that did not survive with a higher accuracy. This may be the limitation of the model. Another model may perform better than this one."
      ],
      "metadata": {
        "id": "6BOvq-EioYZU"
      }
    },
    {
      "cell_type": "markdown",
      "source": [
        "## 8. Challenging the solution"
      ],
      "metadata": {
        "id": "rrBACdOIGjZE"
      }
    },
    {
      "cell_type": "markdown",
      "source": [
        "While this algorithm may work, it may be better to use another model. For example a logisitic regression model. As this model, requires that you have existing data points in place. To classify classes. Which may not be the best way to classify data. Especially when the company may want to classify data from another passenger set. This means it may be unusable with another passenger set. So another model is more suited to this. As it may have more variance than this model."
      ],
      "metadata": {
        "id": "QDuJjeOsAb5Q"
      }
    },
    {
      "cell_type": "markdown",
      "source": [
        "## Conclusion"
      ],
      "metadata": {
        "id": "SQHKHQIgouLl"
      }
    },
    {
      "cell_type": "markdown",
      "source": [
        "In conclusion I believe that the company can use this model. To prdict whether a passenger will survive or not, on a boat. Also I believe they can use the exploratory data analysis. To understand what kind of factors ship crew think about when saving individuals from a boat. They can also use this to advise crew members on how to save individuals on a boat. "
      ],
      "metadata": {
        "id": "O8xdO13cojrO"
      }
    },
    {
      "cell_type": "markdown",
      "source": [
        "## Recommendation"
      ],
      "metadata": {
        "id": "G5T2WZn4oxxV"
      }
    },
    {
      "cell_type": "markdown",
      "source": [
        "I recommend that the boat company uses the last model optimization technique. To ensure that they get accurate results from their predictions. This will allow them to be able to predict survival rates on everyday cruises. With much accuracy."
      ],
      "metadata": {
        "id": "z1u1lf66okSl"
      }
    },
    {
      "cell_type": "markdown",
      "source": [
        "## 11. Follow up questions"
      ],
      "metadata": {
        "id": "fwFHOOl6o23h"
      }
    },
    {
      "cell_type": "markdown",
      "metadata": {
        "id": "HMRuuvXLaTs4"
      },
      "source": [
        "### a) Did we have the right data ?"
      ]
    },
    {
      "cell_type": "markdown",
      "source": [
        "Yes, we had the right data. Because it had the information about the passengers, and what we wanted to identify was whether one set of passengers had a higher survival rate than the other. Which would allow us to be able to predict survival rate of passengers on boats."
      ],
      "metadata": {
        "id": "jDnao14EpKCS"
      }
    },
    {
      "cell_type": "markdown",
      "metadata": {
        "id": "_hGiafs0amTo"
      },
      "source": [
        "### b) Do we need other data to answer our question ?"
      ]
    },
    {
      "cell_type": "markdown",
      "source": [
        "No, because this was one of the biggest crashes in the century. So it would have the most accurate data. In terms of who would survive from a boat crash, in the future. However, this would mainly apply to more mainstream boat rides. As they would try to prioritise one group over another in a crash."
      ],
      "metadata": {
        "id": "9myS5AJBpKgN"
      }
    },
    {
      "cell_type": "markdown",
      "metadata": {
        "id": "uhLIWavWa4hR"
      },
      "source": [
        "### c) Did we have the right question ?"
      ]
    },
    {
      "cell_type": "markdown",
      "source": [
        "Yes, we had a right question. Because this data is mainly focused around the crash. However, it could be used to analyse other areas. For example catering focus points. However more data would be needed to analyse that. As well as this it would need to be gotten from an external source. As the titanic's data files, most likely did not have any other extra data, other than demographics. "
      ],
      "metadata": {
        "id": "CpdF-x5EpK-y"
      }
    }
  ]
}